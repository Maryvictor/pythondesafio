{
  "nbformat": 4,
  "nbformat_minor": 0,
  "metadata": {
    "colab": {
      "provenance": [],
      "include_colab_link": true
    },
    "kernelspec": {
      "name": "python3",
      "display_name": "Python 3"
    },
    "language_info": {
      "name": "python"
    }
  },
  "cells": [
    {
      "cell_type": "markdown",
      "metadata": {
        "id": "view-in-github",
        "colab_type": "text"
      },
      "source": [
        "<a href=\"https://colab.research.google.com/github/Maryvictor/pythondesafio/blob/exer/C%C3%B3pia_de_Desafio_Womakerscode_TechMinas.ipynb\" target=\"_parent\"><img src=\"https://colab.research.google.com/assets/colab-badge.svg\" alt=\"Open In Colab\"/></a>"
      ]
    },
    {
      "cell_type": "markdown",
      "source": [
        "### Bem vindas ao desafio de python do bootcamp Tech Minas da WoMakersCode!\n",
        "Neste notebook, voce deve escrever o codigo python em resposta à cada uma das perguntas. Esteja atenta ao enunciado do problema!\n"
      ],
      "metadata": {
        "id": "Z55f1u4p4oHu"
      }
    },
    {
      "cell_type": "markdown",
      "source": [
        "### Desafio 1\n",
        "Escreva uma função em python que lê dois números inteiros (a,b) e gere como resultado as seguintes operações:adição, subtração, multiplicação e divisão. Execute a funçao na celula abaixo, deixando visivel exemplos de resultados.\n"
      ],
      "metadata": {
        "id": "oFGdIzuu5W7b"
      }
    },
    {
      "cell_type": "code",
      "source": [
        "##### ESCREVER A FUNÇAO ABAIXO\n",
        "def operations(a,b):\n",
        "  adicao = a + b\n",
        "  subtracao = a - b\n",
        "  multiplicacao = a * b\n",
        "  divisao = a / b \n",
        "  text = print(f'A adição entre é {a} e {b} é {adicao}, a subtração é {subtracao}, a multiplicação é {multiplicacao} e a divisão é {divisao}')\n",
        "  return text\n",
        "  #### Escrever abaixo"
      ],
      "metadata": {
        "id": "LzCl-VH14t4a"
      },
      "execution_count": null,
      "outputs": []
    },
    {
      "cell_type": "code",
      "execution_count": null,
      "metadata": {
        "id": "kMNcvrYZ4krA",
        "colab": {
          "base_uri": "https://localhost:8080/"
        },
        "outputId": "042c4d66-58ee-4e12-b225-39dfaba341a6"
      },
      "outputs": [
        {
          "output_type": "stream",
          "name": "stdout",
          "text": [
            "A adição entre é 5 e 6 é 11, a subtração é -1, a multiplicação é 30 e a divisão é 0.8333333333333334\n"
          ]
        }
      ],
      "source": [
        "#### RODAR A FUNÇAO\n",
        "operations(5,6)"
      ]
    },
    {
      "cell_type": "code",
      "source": [],
      "metadata": {
        "id": "0_GDIGYY_fyf"
      },
      "execution_count": null,
      "outputs": []
    },
    {
      "cell_type": "markdown",
      "source": [
        "### Desafio 2\n",
        "Escreva uma função em python que leia como input uma idade e retorne a classificaçao da ideade do individuo da seguinte forma em:\n",
        "\n",
        "*  Criança – 0 a 12 anos\n",
        "*  Adolescente – 13 a 17 anos\n",
        "*  Adulto – acima de 18 anos\n",
        "\n",
        "\n",
        "Se a idade for um número negativo, mostrar a mensagem que a \"idade inválida\"\n",
        "\n"
      ],
      "metadata": {
        "id": "m_tFtRo5581u"
      }
    },
    {
      "cell_type": "code",
      "source": [
        "##### ESCREVER A FUNCAO ABAIXO\n",
        "def classifica_idade(idade):\n",
        "  if idade < 0:\n",
        "    print('idade inválida')\n",
        "  elif idade < 13:\n",
        "    print('Criança')  \n",
        "  elif idade > 12 and idade < 18:\n",
        "    print('Adolescente') \n",
        "  else:\n",
        "     print('Adulto') \n",
        "\n",
        "  #### escrever abaixo"
      ],
      "metadata": {
        "id": "cL-OpHGv6hyc"
      },
      "execution_count": null,
      "outputs": []
    },
    {
      "cell_type": "code",
      "source": [
        "#### RODAR A FUNCAO\n",
        "classifica_idade(25)"
      ],
      "metadata": {
        "id": "49IE2lI66zNO",
        "colab": {
          "base_uri": "https://localhost:8080/"
        },
        "outputId": "9d36b4d2-aa33-412c-8fd4-4a97e587b32d"
      },
      "execution_count": null,
      "outputs": [
        {
          "output_type": "stream",
          "name": "stdout",
          "text": [
            "Adulto\n"
          ]
        }
      ]
    },
    {
      "cell_type": "markdown",
      "source": [
        "### Desafio 3\n",
        "Crie uma função em python que receba como input um determinado horário em horas e retorne a conversao deste horário para segundos\n"
      ],
      "metadata": {
        "id": "wIGGNN_v60s4"
      }
    },
    {
      "cell_type": "code",
      "source": [
        "##### ESCREVER A FUNCAO ABAIXO\n",
        "def time_converter(t):\n",
        "  segundos = t * 60 * 60\n",
        "  return segundos\n",
        "  ##### escrever abaixo"
      ],
      "metadata": {
        "id": "JOF_tcax7ABd"
      },
      "execution_count": null,
      "outputs": []
    },
    {
      "cell_type": "code",
      "source": [
        "##### RODAR A FUNCAO\n",
        "time_converter(1)"
      ],
      "metadata": {
        "id": "AJf1IqiC7Mq_",
        "colab": {
          "base_uri": "https://localhost:8080/"
        },
        "outputId": "1b898447-3348-4783-e5f4-3389171dd125"
      },
      "execution_count": null,
      "outputs": [
        {
          "output_type": "execute_result",
          "data": {
            "text/plain": [
              "3600"
            ]
          },
          "metadata": {},
          "execution_count": 23
        }
      ]
    },
    {
      "cell_type": "markdown",
      "source": [
        "### Desafio 4\n",
        "Crie uma função em python que calcule a média artimética de uma aluna que cursou a disciplina de Programação I. A funcao deve receber como input as notas M1, M2 e M3 e calcular a média. Após a média calculada, a funcao deve anunciar se a aluna foi aprovado, reprovado ou pegou exame de acordo conm a seguinte classificacao:\n",
        "\n",
        "* Se a média estiver entre 0.0 e 4.0, o aluno está reprovado\n",
        "* Se a média estiver entre 4.1 e 6.0, o aluno pegou exame\n",
        "* Se a média for maior do que 6.0, o aluno está aprovado\n",
        "* Se o aluno pegou exame, deve ser lida a nota do exame. Se a nota do exame for maior do que 6.0, está aprovado, senão; está reprovado\n"
      ],
      "metadata": {
        "id": "RCrTUh1E7OWn"
      }
    },
    {
      "cell_type": "code",
      "source": [
        "##### ESCREVER A FUNCAO ABAIXO\n",
        "def calcula_media(M1,M2,M3):\n",
        "  ###### escrever abaixo\n",
        "  media = (M1 + M2 + M3)/ 3\n",
        "  if media >= 0.0  and media <= 4.0:\n",
        "    print('Aluno reprovao')\n",
        "  elif media >= 4.1 and media <= 6.0:\n",
        "    print('Aluno exame')  \n",
        "  else:\n",
        "    print('Aluno aprovado')\n"
      ],
      "metadata": {
        "id": "VzNdyWZE70oc"
      },
      "execution_count": null,
      "outputs": []
    },
    {
      "cell_type": "code",
      "source": [
        "##### RODAR A \n",
        "calcula_media(10,5,5)"
      ],
      "metadata": {
        "id": "cY7vMECS77QY",
        "colab": {
          "base_uri": "https://localhost:8080/"
        },
        "outputId": "1a85f1a5-52cd-458a-9859-6fadae24592e"
      },
      "execution_count": null,
      "outputs": [
        {
          "output_type": "stream",
          "name": "stdout",
          "text": [
            "Aluno aprovado\n"
          ]
        }
      ]
    },
    {
      "cell_type": "markdown",
      "source": [
        "### Desafio 5\n",
        "Dado a seguinte lista: \n",
        "* equipes_bootcamp_dados = [BerthaLutz, GraceHopper, JaquelineGoes, SarahGilbert]\n",
        "\n",
        "1. Crie uma função em python que conte quantas vezes aparece a letra a em cada elemento da lista. Seu resultado deve ser uma lista . exemplo: [4,0,1,2]\n",
        "\n",
        "2. Leia a lista de alunas: ['Maria', 'Ana','Camila','Mariana','Elaine','Patricia','Marina','Erica','Larissa','Luiza', 'Nicole','Bruna']\n",
        "\n",
        "3. Crie uma função que atribua cada uma das alunas em uma das equipes da lista equipes_bootcamp_dados, de modo que cada equipe pode ter 3 alunas no máximo.\n",
        "\n",
        " Para isso ordene em alfabética. O seu resultado deve ser um dicionário python. exemplo {'BerthaLutz': ['Ana', 'Bruna', 'Camila'], 'GraceHopper': ['Elaine','Erika','Luiza'],... }\n"
      ],
      "metadata": {
        "id": "eI9AkpYT788b"
      }
    },
    {
      "cell_type": "code",
      "source": [
        "##### ESCREVER A FUNCAO DA ETAPA 1\n",
        "def contador(equipes_bootcamp_dados):\n",
        "  #### escrever abaixo\n",
        "  c = equipes_bootcamp_dados\n",
        "  c.count('a')"
      ],
      "metadata": {
        "id": "Zk6U7KnL8WBd"
      },
      "execution_count": null,
      "outputs": []
    },
    {
      "cell_type": "code",
      "source": [
        "###### RODAR A ETAPA 1\n",
        "contador(['BerthaLutz', 'GraceHopper', 'JaquelineGoes', 'SarahGilbert'])\n",
        "\n",
        " "
      ],
      "metadata": {
        "id": "snTgwxt_8hcj"
      },
      "execution_count": null,
      "outputs": []
    },
    {
      "cell_type": "code",
      "source": [
        "##### LER A ETAPA 2\n",
        "contador(['Maria', 'Ana','Camila','Mariana','Elaine','Patricia','Marina','Erica','Larissa','Luiza', 'Nicole','Bruna'])\n",
        "\n"
      ],
      "metadata": {
        "id": "xgkMVykO8jB-"
      },
      "execution_count": null,
      "outputs": []
    },
    {
      "cell_type": "code",
      "source": [
        "##### ESCREVER A FUNCAO DA ETAPA 3\n",
        "def ordenacao(lista_alunas, equipes_bootcamp_dados):\n",
        "  ### escrever abaixo"
      ],
      "metadata": {
        "id": "_ySYFooB8jFF"
      },
      "execution_count": null,
      "outputs": []
    },
    {
      "cell_type": "code",
      "source": [
        "##### RODAR A FUNCAO DA ETAPA 3"
      ],
      "metadata": {
        "id": "8qZnUInj9Uvr"
      },
      "execution_count": null,
      "outputs": []
    },
    {
      "cell_type": "markdown",
      "source": [
        "### Desafio 6\n",
        "Escreva uma função em python que leia uma temperatura em graus Celsius e retorne a conversao dela em graus Fahrenheit. \n",
        "\n",
        "A fórmula de conversão é F = (9 * C + 160) / 5, na qual F é a temperatura em Fahrenheit e C é a temperatura em graus Celsius\n",
        "\n",
        "\n"
      ],
      "metadata": {
        "id": "AXoFPjyx82gG"
      }
    },
    {
      "cell_type": "code",
      "source": [
        "##### ESCREVER A FUNCAO\n",
        "def conversor_temperatura(temperatura):\n",
        "  ### escrever abaixo\n",
        "  F = (temperatura * 1.8) + 32\n",
        "  print('A temperatura {:.1f}C° é {:.1f}F°'.format(temperatura, F))"
      ],
      "metadata": {
        "id": "OsCU2Msu9D9o"
      },
      "execution_count": null,
      "outputs": []
    },
    {
      "cell_type": "code",
      "source": [
        "##### RODAR A FUNCAO\n",
        "conversor_temperatura(20)"
      ],
      "metadata": {
        "id": "UBCdsBgi9Xa2",
        "colab": {
          "base_uri": "https://localhost:8080/"
        },
        "outputId": "030b81a3-1013-4f57-9435-0e72af5877b0"
      },
      "execution_count": null,
      "outputs": [
        {
          "output_type": "stream",
          "name": "stdout",
          "text": [
            "A temperatura 20.0C° é 68.0F°\n"
          ]
        }
      ]
    }
  ]
}